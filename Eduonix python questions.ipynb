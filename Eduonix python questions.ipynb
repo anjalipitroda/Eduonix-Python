{
 "cells": [
  {
   "cell_type": "markdown",
   "id": "ad88aedf",
   "metadata": {},
   "source": [
    "# Python"
   ]
  },
  {
   "cell_type": "markdown",
   "id": "8fa37715",
   "metadata": {},
   "source": [
    "1.Write a program using list comprehension to find primes \n",
    "in range 2 to 100."
   ]
  },
  {
   "cell_type": "code",
   "execution_count": 5,
   "id": "bea63e85",
   "metadata": {},
   "outputs": [],
   "source": [
    "Prime = [2,3,5,] + [x for x in range(2,101) if x%2!=0 and x%3!=0 and x%5!=0]"
   ]
  },
  {
   "cell_type": "code",
   "execution_count": 7,
   "id": "258fc143",
   "metadata": {},
   "outputs": [
    {
     "data": {
      "text/plain": [
       "[2,\n",
       " 3,\n",
       " 5,\n",
       " 7,\n",
       " 11,\n",
       " 13,\n",
       " 17,\n",
       " 19,\n",
       " 23,\n",
       " 29,\n",
       " 31,\n",
       " 37,\n",
       " 41,\n",
       " 43,\n",
       " 47,\n",
       " 49,\n",
       " 53,\n",
       " 59,\n",
       " 61,\n",
       " 67,\n",
       " 71,\n",
       " 73,\n",
       " 77,\n",
       " 79,\n",
       " 83,\n",
       " 89,\n",
       " 91,\n",
       " 97]"
      ]
     },
     "execution_count": 7,
     "metadata": {},
     "output_type": "execute_result"
    }
   ],
   "source": [
    "Prime"
   ]
  },
  {
   "cell_type": "markdown",
   "id": "018a2d33",
   "metadata": {},
   "source": [
    "2.Write a function to reverse a string"
   ]
  },
  {
   "cell_type": "markdown",
   "id": "50a6925b",
   "metadata": {},
   "source": [
    "string='reverse a string'"
   ]
  },
  {
   "cell_type": "code",
   "execution_count": 2,
   "id": "3c8bd885",
   "metadata": {},
   "outputs": [
    {
     "name": "stdout",
     "output_type": "stream",
     "text": [
      "Enter String Here: reverse a string\n"
     ]
    }
   ],
   "source": [
    "string=input('Enter String Here: ')"
   ]
  },
  {
   "cell_type": "code",
   "execution_count": 3,
   "id": "b11433f9",
   "metadata": {},
   "outputs": [
    {
     "data": {
      "text/plain": [
       "'gnirts a esrever'"
      ]
     },
     "execution_count": 3,
     "metadata": {},
     "output_type": "execute_result"
    }
   ],
   "source": [
    "string[::-1]"
   ]
  },
  {
   "cell_type": "code",
   "execution_count": null,
   "id": "a3568a7a",
   "metadata": {},
   "outputs": [],
   "source": []
  },
  {
   "cell_type": "markdown",
   "id": "493b9f78",
   "metadata": {},
   "source": [
    "3.Write a program to extract the words from the given list which have their first character in uppercase. Days = ['Monday', 'tuesday','friday', 'Sunday', 'Saturday']\n",
    "\n",
    "Output: ['Monday', 'Sunday', 'Saturday'"
   ]
  },
  {
   "cell_type": "code",
   "execution_count": 4,
   "id": "0d1f9d90",
   "metadata": {},
   "outputs": [],
   "source": [
    "Days = ['Monday', 'tuesday','friday', 'Sunday', 'Saturday']"
   ]
  },
  {
   "cell_type": "code",
   "execution_count": 14,
   "id": "0ccf1f94",
   "metadata": {},
   "outputs": [],
   "source": [
    "A = []"
   ]
  },
  {
   "cell_type": "code",
   "execution_count": 15,
   "id": "f2ec8070",
   "metadata": {},
   "outputs": [],
   "source": [
    "for i in range (0,5) :\n",
    "    if Days [i][0]==Days[i][0].upper():\n",
    "        A.append(Days[i])"
   ]
  },
  {
   "cell_type": "code",
   "execution_count": 16,
   "id": "1f305246",
   "metadata": {},
   "outputs": [
    {
     "data": {
      "text/plain": [
       "['Monday', 'Sunday', 'Saturday']"
      ]
     },
     "execution_count": 16,
     "metadata": {},
     "output_type": "execute_result"
    }
   ],
   "source": [
    "A"
   ]
  },
  {
   "cell_type": "code",
   "execution_count": null,
   "id": "8ae4bf33",
   "metadata": {},
   "outputs": [],
   "source": []
  },
  {
   "cell_type": "markdown",
   "id": "094d948f",
   "metadata": {},
   "source": [
    "4.Write a program to extract the year part from the dates in \n",
    "the given list.\n",
    "\n",
    "Batch = ['15-06-1997','15-06-2011','15-06-1993','15-06-2020']\n",
    "\n",
    "Output: ['1997','2011','1993','2020']"
   ]
  },
  {
   "cell_type": "code",
   "execution_count": 27,
   "id": "e3e68727",
   "metadata": {},
   "outputs": [],
   "source": [
    "Batch = ['15-06-1997','15-06-2011','15-06-1993','15-06-2020']"
   ]
  },
  {
   "cell_type": "code",
   "execution_count": 40,
   "id": "b0da4724",
   "metadata": {},
   "outputs": [],
   "source": [
    "B = []"
   ]
  },
  {
   "cell_type": "code",
   "execution_count": 41,
   "id": "abf61204",
   "metadata": {},
   "outputs": [],
   "source": [
    "for i in Batch:\n",
    "    B.append(i[-4:])"
   ]
  },
  {
   "cell_type": "code",
   "execution_count": 42,
   "id": "8365c7be",
   "metadata": {},
   "outputs": [
    {
     "data": {
      "text/plain": [
       "['1997', '2011', '1993', '2020']"
      ]
     },
     "execution_count": 42,
     "metadata": {},
     "output_type": "execute_result"
    }
   ],
   "source": [
    "B"
   ]
  },
  {
   "cell_type": "markdown",
   "id": "3fc0632a",
   "metadata": {},
   "source": [
    "5.Write a program swap the keys to values and values to keys of the given dictionary. \n",
    "\n",
    "Module = {'Data Science':1,'Machine Learning':2, 'SQL':3, 'Big Data':4} \n",
    "\n",
    "Output: {1:'Data Science',2:'Machine Learning', 3:'SQL', 4:'Big Data'}"
   ]
  },
  {
   "cell_type": "code",
   "execution_count": 43,
   "id": "84f82c00",
   "metadata": {},
   "outputs": [],
   "source": [
    "Module = {'Data Science':1,'Machine Learning':2, 'SQL':3, 'Big Data':4} "
   ]
  },
  {
   "cell_type": "code",
   "execution_count": 48,
   "id": "5cc13440",
   "metadata": {},
   "outputs": [],
   "source": [
    "swapped = {x:y for y,x in Module.items()}"
   ]
  },
  {
   "cell_type": "code",
   "execution_count": 49,
   "id": "6bcda571",
   "metadata": {},
   "outputs": [
    {
     "data": {
      "text/plain": [
       "{1: 'Data Science', 2: 'Machine Learning', 3: 'SQL', 4: 'Big Data'}"
      ]
     },
     "execution_count": 49,
     "metadata": {},
     "output_type": "execute_result"
    }
   ],
   "source": [
    "swapped"
   ]
  },
  {
   "cell_type": "markdown",
   "id": "99c46d7d",
   "metadata": {},
   "source": [
    "6.Write a program to count the number of elements in the string (given by the user) that are not present in the 'my_string'. \n",
    "\n",
    "Do not count the white spaces.\n",
    "\n",
    "my_string = 'Data Science'"
   ]
  },
  {
   "cell_type": "code",
   "execution_count": 61,
   "id": "2ccb7584",
   "metadata": {},
   "outputs": [],
   "source": [
    "my_string = 'Data Science'"
   ]
  },
  {
   "cell_type": "code",
   "execution_count": 62,
   "id": "d54d0b60",
   "metadata": {},
   "outputs": [],
   "source": [
    "count = len(my_string)"
   ]
  },
  {
   "cell_type": "code",
   "execution_count": 63,
   "id": "b06572fa",
   "metadata": {},
   "outputs": [],
   "source": [
    "for i in range(0,len(my_string)):\n",
    "    if my_string[i]==\" \":\n",
    "        count=count-1"
   ]
  },
  {
   "cell_type": "code",
   "execution_count": 65,
   "id": "85969f35",
   "metadata": {},
   "outputs": [
    {
     "data": {
      "text/plain": [
       "11"
      ]
     },
     "execution_count": 65,
     "metadata": {},
     "output_type": "execute_result"
    }
   ],
   "source": [
    "count"
   ]
  },
  {
   "cell_type": "markdown",
   "id": "9d8337ba",
   "metadata": {},
   "source": [
    "7.Define a function to check whether a number is in a range (1000,10000) or not."
   ]
  },
  {
   "cell_type": "code",
   "execution_count": 12,
   "id": "41f91ddd",
   "metadata": {},
   "outputs": [
    {
     "name": "stdout",
     "output_type": "stream",
     "text": [
      "Enter number to check: 6000\n"
     ]
    }
   ],
   "source": [
    "P = int(input('Enter number to check: '))"
   ]
  },
  {
   "cell_type": "code",
   "execution_count": 15,
   "id": "3d269fd3",
   "metadata": {},
   "outputs": [],
   "source": [
    "def range_checker(P):\n",
    "    if P in range(1000, 10001):\n",
    "        print(P,\"is in range 1000, 10000\")\n",
    "    else:\n",
    "        print(P,\"is not in range 1000, 10000\")"
   ]
  },
  {
   "cell_type": "code",
   "execution_count": 16,
   "id": "e5448e19",
   "metadata": {},
   "outputs": [
    {
     "name": "stdout",
     "output_type": "stream",
     "text": [
      "6000 is in range 1000, 10000\n"
     ]
    }
   ],
   "source": [
    "range_checker(P)"
   ]
  },
  {
   "cell_type": "code",
   "execution_count": null,
   "id": "3a8cb08a",
   "metadata": {},
   "outputs": [],
   "source": []
  },
  {
   "cell_type": "markdown",
   "id": "79ecb88b",
   "metadata": {},
   "source": [
    "8.Write a program to calculate the sum of all elements in the list.\n",
    "\n",
    "test_score = [10, 32, 23, 14, 25]"
   ]
  },
  {
   "cell_type": "code",
   "execution_count": 17,
   "id": "966743cc",
   "metadata": {},
   "outputs": [],
   "source": [
    "test_score= [10, 32, 23, 14, 25]"
   ]
  },
  {
   "cell_type": "code",
   "execution_count": 18,
   "id": "90d834f1",
   "metadata": {},
   "outputs": [
    {
     "data": {
      "text/plain": [
       "104"
      ]
     },
     "execution_count": 18,
     "metadata": {},
     "output_type": "execute_result"
    }
   ],
   "source": [
    "sum(test_score)"
   ]
  },
  {
   "cell_type": "code",
   "execution_count": null,
   "id": "d39b37a2",
   "metadata": {},
   "outputs": [],
   "source": []
  },
  {
   "cell_type": "markdown",
   "id": "d083692d",
   "metadata": {},
   "source": [
    "9.Replace all even numbers in the array with -1.\n",
    "\n",
    "Use the array given below num_array = np.array([0, 21, 32, 13, 44, 45, 26, 28, 38, 34, 65, 48, 76])"
   ]
  },
  {
   "cell_type": "code",
   "execution_count": 20,
   "id": "b2ace14e",
   "metadata": {},
   "outputs": [],
   "source": [
    "import numpy as np"
   ]
  },
  {
   "cell_type": "code",
   "execution_count": 21,
   "id": "642b1a65",
   "metadata": {},
   "outputs": [],
   "source": [
    "num_array = np.array([0, 21, 32, 13, 44, 45, 26, 28, 38, 34, 65, 48, 76])"
   ]
  },
  {
   "cell_type": "code",
   "execution_count": 22,
   "id": "7c21367b",
   "metadata": {},
   "outputs": [],
   "source": [
    "num_array1 = []\n",
    "\n",
    "for i in num_array:\n",
    "    if i%2==0:\n",
    "        num_array1.append(i-(i+1))\n",
    "    else:\n",
    "        num_array1.append(i)\n",
    "\n",
    "num_array = num_array1"
   ]
  },
  {
   "cell_type": "code",
   "execution_count": 23,
   "id": "e954b0b8",
   "metadata": {},
   "outputs": [
    {
     "name": "stdout",
     "output_type": "stream",
     "text": [
      "[-1, 21, -1, 13, -1, 45, -1, -1, -1, -1, 65, -1, -1]\n"
     ]
    }
   ],
   "source": [
    "print(num_array)"
   ]
  },
  {
   "cell_type": "markdown",
   "id": "2e36cc99",
   "metadata": {},
   "source": [
    "10.Find the minimum value along each of the rows. \n",
    "\n",
    "Create a 2D Numpy array from list of lists \n",
    "\n",
    "Score = np.array([[210, 402, 383], [140, 375, 106], [140, 125, 217], [292, 240, 295]])"
   ]
  },
  {
   "cell_type": "code",
   "execution_count": 24,
   "id": "a08b0b0e",
   "metadata": {},
   "outputs": [],
   "source": [
    "Score = np.array([[210, 402, 383], [140, 375, 106], [140, 125, 217], [292, 240, 295]])"
   ]
  },
  {
   "cell_type": "code",
   "execution_count": 26,
   "id": "97ce92c2",
   "metadata": {},
   "outputs": [],
   "source": [
    "M = []\n",
    "for i in Score:\n",
    "    M.append(i.min())"
   ]
  },
  {
   "cell_type": "code",
   "execution_count": 27,
   "id": "d41451b4",
   "metadata": {},
   "outputs": [
    {
     "name": "stdout",
     "output_type": "stream",
     "text": [
      "[210, 106, 125, 240]\n"
     ]
    }
   ],
   "source": [
    "print(M)"
   ]
  },
  {
   "cell_type": "code",
   "execution_count": null,
   "id": "74162989",
   "metadata": {},
   "outputs": [],
   "source": []
  }
 ],
 "metadata": {
  "kernelspec": {
   "display_name": "Python 3 (ipykernel)",
   "language": "python",
   "name": "python3"
  },
  "language_info": {
   "codemirror_mode": {
    "name": "ipython",
    "version": 3
   },
   "file_extension": ".py",
   "mimetype": "text/x-python",
   "name": "python",
   "nbconvert_exporter": "python",
   "pygments_lexer": "ipython3",
   "version": "3.10.9"
  }
 },
 "nbformat": 4,
 "nbformat_minor": 5
}
